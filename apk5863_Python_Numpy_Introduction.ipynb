{
  "cells": [
    {
      "cell_type": "markdown",
      "metadata": {
        "id": "3q4llFOQmyHN"
      },
      "source": [
        "# Basic data types"
      ]
    },
    {
      "cell_type": "code",
      "execution_count": 1,
      "metadata": {
        "id": "UccS9GLXm2Q7",
        "colab": {
          "base_uri": "https://localhost:8080/"
        },
        "outputId": "9c669758-f482-4fe9-e51f-619200d7f623"
      },
      "outputs": [
        {
          "output_type": "stream",
          "name": "stdout",
          "text": [
            "<class 'int'>\n",
            "4\n",
            "3\n",
            "6\n",
            "36\n"
          ]
        }
      ],
      "source": [
        "#Integers \n",
        "x = 3\n",
        "#print the type of x\n",
        "print(type(x))\n",
        "# Addition : add 1 to x and print the result\n",
        "x = x + 1\n",
        "print(x)\n",
        "# Subtraction; subtract 1 from x and print the result\n",
        "x = x - 1\n",
        "print(x)\n",
        "# Multiplication; multiply x with 2 and print the result\n",
        "x = x * 2\n",
        "print(x)\n",
        "# Exponentiation; print the square of x\n",
        "x = x ** 2\n",
        "print(x)"
      ]
    },
    {
      "cell_type": "code",
      "execution_count": 2,
      "metadata": {
        "id": "gDNf97w0oSxB",
        "colab": {
          "base_uri": "https://localhost:8080/"
        },
        "outputId": "ccd55245-81f6-4402-da98-9ab5fa4245b3"
      },
      "outputs": [
        {
          "output_type": "stream",
          "name": "stdout",
          "text": [
            "<class 'float'>\n",
            "5.0\n",
            "8.0\n"
          ]
        }
      ],
      "source": [
        "#floats\n",
        "y = 2.5\n",
        "#print the type of y\n",
        "print(type(y))\n",
        "#use operator *= to double the value of y and print y \n",
        "y *= 2\n",
        "print(y)\n",
        "#use operator += to add 3 to y and print y \n",
        "y += 3\n",
        "print(y)"
      ]
    },
    {
      "cell_type": "code",
      "execution_count": 6,
      "metadata": {
        "id": "4xaTfgDyozmB",
        "colab": {
          "base_uri": "https://localhost:8080/"
        },
        "outputId": "ffee7fe4-0362-4b2c-ec8b-71bcc4b80cb5"
      },
      "outputs": [
        {
          "output_type": "stream",
          "name": "stdout",
          "text": [
            "Hello\n",
            "HELLO\n",
            "HELLO\n",
            "HELLO\n",
            "he(ell)(ell)o\n",
            "world\n"
          ]
        }
      ],
      "source": [
        "#Strings \n",
        "s = \"hello\"\n",
        "# Capitalize the above string and print it\n",
        "s = s.capitalize()\n",
        "print(s)\n",
        "#Convert the string to uppercase and print it\n",
        "s = s.upper()\n",
        "print(s)\n",
        "# Right-justify the string, padding with 2 spaces print it;\n",
        "s = s.rjust(2)\n",
        "print(s)\n",
        "# Center the string, padding with 2 spaces print it;\n",
        "s = s.center(2)\n",
        "print(s)\n",
        "# Replace all instances of letter l  with \"(ell)\" and print it;\n",
        "s = \"hello\"\n",
        "s = s.replace('l' , '(ell)')\n",
        "print(s)\n",
        "str = \" world \"\n",
        "# Strip leading and trailing whitespace in the above string and print\n",
        "str = str.strip()\n",
        "print(str)"
      ]
    },
    {
      "cell_type": "markdown",
      "metadata": {
        "id": "ZRK4igr0r5Qc"
      },
      "source": [
        "# Containers"
      ]
    },
    {
      "cell_type": "code",
      "execution_count": 7,
      "metadata": {
        "colab": {
          "base_uri": "https://localhost:8080/"
        },
        "id": "tkt3cWoYrCop",
        "outputId": "2f85c495-46ea-4edd-d8d6-25f38e19f9dc"
      },
      "outputs": [
        {
          "output_type": "stream",
          "name": "stdout",
          "text": [
            "[1, 2, 'foo', 4]\n",
            "[1, 2, 'foo', 4, ['bar']]\n",
            "[1, 2, 'foo', 4, ['bar'], 'bar']\n",
            "[1, 2, 'foo', 4, ['bar']]\n"
          ]
        }
      ],
      "source": [
        "#Lists\n",
        "#create a list of first five natural numbers\n",
        "list1 = [1,2,3,4]\n",
        "#change the 3rd element to \"foo\" and print list1\n",
        "list1[2] = \"foo\"\n",
        "print(list1)\n",
        "list2 = [\"bar\"]\n",
        "#append list2 to list1 and print the result\n",
        "list1.append(list2)\n",
        "print(list1)\n",
        "#add list2 to list1 using extend and print the result\n",
        "list1.extend(list2)\n",
        "print(list1)\n",
        "#remove last element in list1 using pop and print list1\n",
        "list1.pop()\n",
        "print(list1)\n"
      ]
    },
    {
      "cell_type": "code",
      "execution_count": 8,
      "metadata": {
        "colab": {
          "base_uri": "https://localhost:8080/"
        },
        "id": "fcayPpYjtla-",
        "outputId": "be171a19-cc38-48fe-95f6-a657ff260b6d"
      },
      "outputs": [
        {
          "output_type": "stream",
          "name": "stdout",
          "text": [
            "[2, 3]\n",
            "[2, 3]\n",
            "[0, 1]\n",
            "[0, 1, 8, 9, 4]\n"
          ]
        }
      ],
      "source": [
        "#Slicing \n",
        "nums = list(range(5))\n",
        "#print a slice from index 2 to 4 (exclusive)\n",
        "x = nums[2:4]\n",
        "print(x)\n",
        "#print a slice from index 2 to 4 (exclusive)\n",
        "x = nums[2:4]\n",
        "print(x)\n",
        "# Slice indices can be negative; \n",
        "print(nums[:-3]) \n",
        "# Assign the [8,9] new list to a slice from index 2 to 4 (exclusive)\n",
        "nums[2:4] = [8,9]\n",
        "print(nums)"
      ]
    },
    {
      "cell_type": "code",
      "execution_count": 9,
      "metadata": {
        "id": "v-PI9dt3uxkx",
        "colab": {
          "base_uri": "https://localhost:8080/"
        },
        "outputId": "aa1259fa-38b2-43ca-813e-4d2ce9bd37dd"
      },
      "outputs": [
        {
          "output_type": "stream",
          "name": "stdout",
          "text": [
            "[0, 1, 4, 9, 16]\n",
            "0 cat\n",
            "1 dog\n",
            "2 monkey\n",
            "[0, 1, 4, 9, 16]\n"
          ]
        }
      ],
      "source": [
        "#Loops\n",
        "nums = [0, 1, 2, 3, 4]\n",
        "squares = []\n",
        "# append squares of each element in nums to squares using for loop\n",
        "for x in nums:\n",
        "  squares.append(x**2)\n",
        "print(squares)\n",
        "####\n",
        "\n",
        "animals = ['cat', 'dog', 'monkey']\n",
        "#print index and elements in the list using enumerate and for loop\n",
        "for i,j in enumerate(animals):\n",
        "  print(i,j)\n",
        "\n",
        "#print squares of even numbers using list comprehensions\n",
        "nums = [0, 1, 2, 3, 4]\n",
        "even_squares = [x**2 for x in nums]\n",
        "print(even_squares)"
      ]
    },
    {
      "cell_type": "code",
      "execution_count": 10,
      "metadata": {
        "id": "Odzrj6_Nv51m",
        "colab": {
          "base_uri": "https://localhost:8080/"
        },
        "outputId": "e6271a74-63ef-4e84-a1fb-972b19e3cfc2"
      },
      "outputs": [
        {
          "output_type": "stream",
          "name": "stdout",
          "text": [
            "{'cat': 'cute', 'dog': 'furry'}\n",
            "{'cat': 'cute', 'dog': 'furry', 'fish': 'wet'}\n",
            "{'dog': 'furry', 'fish': 'wet'}\n",
            "N/A\n",
            "wet\n",
            "dict_keys(['dog', 'fish'])\n",
            "dict_items([('dog', 'furry'), ('fish', 'wet')])\n"
          ]
        }
      ],
      "source": [
        "#Dictionaries\n",
        "#create a dictionary with keys = (cat, dog) and items = (cute,furry)\n",
        "d = {\"cat\":\"cute\",\"dog\":\"furry\"}\n",
        "print(d)\n",
        "#set an entry {fish:wet}\n",
        "d[\"fish\"] = \"wet\"\n",
        "print(d)\n",
        "#remove the entry with key= cat \n",
        "d.pop(\"cat\")\n",
        "print(d)\n",
        "# Get an element with a default;\n",
        "print(d.get('monkey', 'N/A'))\n",
        "# get an element with key= fish and print it\n",
        "x = d.get(\"fish\")\n",
        "print(x)\n",
        "#print all keys in dictionary\n",
        "print(d.keys())\n",
        "#print all items in dictionary\n",
        "print(d.items())"
      ]
    },
    {
      "cell_type": "code",
      "execution_count": 12,
      "metadata": {
        "id": "DAZXgnPqwNrB",
        "colab": {
          "base_uri": "https://localhost:8080/"
        },
        "outputId": "0f8a80be-2e53-4468-e0d8-1e9737ea379d"
      },
      "outputs": [
        {
          "output_type": "stream",
          "name": "stdout",
          "text": [
            "{'cat', 'dog', 'fish'}\n",
            "{'monkey', 'cat', 'dog', 'fish'}\n",
            "{'monkey', 'cat', 'dog'}\n",
            "False\n"
          ]
        }
      ],
      "source": [
        "#sets \n",
        "#create a set with elements cat, dog and fish\n",
        "s = {\"cat\",\"dog\",\"fish\"}\n",
        "print (s)\n",
        "#add monkey to the set\n",
        "s.add(\"monkey\")\n",
        "print(s)\n",
        "#remove fish from the set \n",
        "s.remove(\"fish\")\n",
        "print(s)\n",
        "#checks if an element is in the set\n",
        "print('fish' in animals)"
      ]
    },
    {
      "cell_type": "markdown",
      "metadata": {
        "id": "1hOHkVTbFVk8"
      },
      "source": [
        "# Numpy"
      ]
    },
    {
      "cell_type": "code",
      "execution_count": 13,
      "metadata": {
        "id": "uG2OTLa9FTqL",
        "colab": {
          "base_uri": "https://localhost:8080/"
        },
        "outputId": "459c5fa5-aa97-41cd-edde-c2e6075f4b77"
      },
      "outputs": [
        {
          "output_type": "stream",
          "name": "stdout",
          "text": [
            "(2, 3)\n",
            "[[0. 0.]\n",
            " [0. 0.]]\n",
            "[[1. 1.]]\n",
            "[[7 7 7]\n",
            " [7 7 7]\n",
            " [7 7 7]]\n",
            "[[0.56125165 0.11568203]\n",
            " [0.3564129  0.56987524]]\n"
          ]
        }
      ],
      "source": [
        "#importing the numpy package \n",
        "import numpy as np\n",
        "b = np.array([[1,2,3],[4,5,6]])    # Create a rank 2 array\n",
        "#print the shape of the array\n",
        "print(b.shape)\n",
        "#print an array of all zeros of shape(2,2)\n",
        "print(np.zeros((2,2)))\n",
        "#print an array of all ones of shape(1,2)\n",
        "print(np.ones((1,2)))\n",
        "#print an array of shape (3,3) with all elements in array = 7\n",
        "print(np.full((3,3),7))\n",
        "#print an array filled with random values of shape (2,2)\n",
        "print(np.random.rand(2,2))"
      ]
    },
    {
      "cell_type": "code",
      "execution_count": 14,
      "metadata": {
        "id": "IYiYxnHYP2L5",
        "colab": {
          "base_uri": "https://localhost:8080/"
        },
        "outputId": "8ea96d26-2e35-4e45-89e1-0d1a1f20a4cd"
      },
      "outputs": [
        {
          "output_type": "stream",
          "name": "stdout",
          "text": [
            "[[1 2]\n",
            " [5 6]]\n",
            "[ 1  6  7 11]\n",
            "[[11  2  3]\n",
            " [ 4  5 16]\n",
            " [17  8  9]\n",
            " [10 21 12]]\n"
          ]
        }
      ],
      "source": [
        "#ARRAY INDEXING\n",
        "\n",
        "a = np.array([[1,2,3,4], [5,6,7,8], [9,10,11,12]])\n",
        "# Use slicing to print out the subarray consisting of the first 2 rows and columns 1 and 2;\n",
        "x = a[:2,:2]\n",
        "print(x)\n",
        "a = np.array([[1,2,3], [4,5,6], [7,8,9], [10, 11, 12]])\n",
        "b = np.array([0, 2, 0, 1])\n",
        "# print one element from each row of a using the indices in b\n",
        "x = a[np.arange(4),b]\n",
        "print(x)\n",
        "# add 10 to one element from each row of a using the indices in b\n",
        "a[np.arange(4),b] += 10\n",
        "print(a)"
      ]
    },
    {
      "cell_type": "code",
      "execution_count": 18,
      "metadata": {
        "id": "OYsgl7PtSzq-",
        "colab": {
          "base_uri": "https://localhost:8080/"
        },
        "outputId": "396b429a-c75e-4f25-971f-01c04ce498c0"
      },
      "outputs": [
        {
          "output_type": "stream",
          "name": "stdout",
          "text": [
            "[[False False]\n",
            " [ True  True]\n",
            " [ True  True]]\n",
            "[3 4 5 6]\n",
            "[[1 2]\n",
            " [3 4]] <class 'numpy.ndarray'>\n"
          ]
        }
      ],
      "source": [
        "#Boolean array indexing\n",
        "a = np.array([[1,2], [3, 4], [5, 6]])\n",
        "#Print a numpy array of Booleans where elements of a are bigger than 2 ,shape=(3,2)\n",
        "print(a>2)\n",
        "#a rank 1 array consisting of the elements of a that are bigger than 2\n",
        "print(a[a>2])\n",
        "x = np.array([1, 2]) \n",
        "#print data type of the array\n",
        "x.dtype\n",
        "#create an array [[1,2],[3,4]] with data type int64.\n",
        "arr = np.array([[1,2],[3,4]], dtype='int64')\n",
        "print(arr,type(arr))"
      ]
    },
    {
      "cell_type": "code",
      "execution_count": 19,
      "metadata": {
        "id": "VZoDHzWSUk3_",
        "colab": {
          "base_uri": "https://localhost:8080/"
        },
        "outputId": "95a4969c-2100-4e13-abec-ec7f3a7bdf17"
      },
      "outputs": [
        {
          "output_type": "stream",
          "name": "stdout",
          "text": [
            "[[ 6.  8.]\n",
            " [10. 12.]]\n",
            "[[-4. -4.]\n",
            " [-4. -4.]]\n",
            "[[ 5. 12.]\n",
            " [21. 32.]]\n",
            "[[0.2        0.33333333]\n",
            " [0.42857143 0.5       ]]\n",
            "[[1.         1.41421356]\n",
            " [1.73205081 2.        ]]\n",
            "[[2.23606798 2.44948974]\n",
            " [2.64575131 2.82842712]]\n"
          ]
        }
      ],
      "source": [
        "#Array math\n",
        "x = np.array([[1,2],[3,4]], dtype=np.float64)\n",
        "y = np.array([[5,6],[7,8]], dtype=np.float64)\n",
        "#print elementwise addition using numpy function\n",
        "print(x+y)\n",
        "#print elementwise difference using numpy function\n",
        "print(x-y)\n",
        "#print elementwise multiplication using numpy function\n",
        "print(x*y)\n",
        "#print elementwise division using numpy function\n",
        "print(x/y)\n",
        "#print elementwise square root using numpy function\n",
        "print(np.sqrt(x))\n",
        "print(np.sqrt(y))"
      ]
    },
    {
      "cell_type": "code",
      "execution_count": 20,
      "metadata": {
        "id": "TmMfplkRVZIu",
        "colab": {
          "base_uri": "https://localhost:8080/"
        },
        "outputId": "b58225b8-9eb6-4f6d-e11c-151da64ba50f"
      },
      "outputs": [
        {
          "output_type": "stream",
          "name": "stdout",
          "text": [
            "[[17 23]\n",
            " [39 53]]\n",
            "[-8 -6]\n",
            "[-4 -4]\n"
          ]
        }
      ],
      "source": [
        "x = np.array([[1,2],[3,4]])\n",
        "y = np.array([[5,6],[7,8]])\n",
        "\n",
        "v = np.array([9,10])\n",
        "w = np.array([11, 12])\n",
        "\n",
        "#print Inner product of vectors\n",
        "print(np.inner(x,y))\n",
        "#print matrix / vector product of x and v \n",
        "print(np.cross(x,v))\n",
        "#print matrix / vector product of x and y \n",
        "print(np.cross(x,y))"
      ]
    },
    {
      "cell_type": "code",
      "execution_count": 21,
      "metadata": {
        "id": "5_Iy6xwGXVS8",
        "colab": {
          "base_uri": "https://localhost:8080/"
        },
        "outputId": "8019fa60-bf40-4eff-b995-5e23680ff0e4"
      },
      "outputs": [
        {
          "output_type": "stream",
          "name": "stdout",
          "text": [
            "10\n",
            "[3 7]\n",
            "[4 6]\n"
          ]
        }
      ],
      "source": [
        "x = np.array([[1,2],[3,4]])\n",
        "#print sum of all elements in array\n",
        "print(np.sum(x))\n",
        "#print sum of elements in each row\n",
        "print(np.sum(x,axis=1))\n",
        "#print sum of elements in each column\n",
        "print(np.sum(x,axis=0))"
      ]
    },
    {
      "cell_type": "code",
      "execution_count": 22,
      "metadata": {
        "id": "dwkaL3GSZiBl",
        "colab": {
          "base_uri": "https://localhost:8080/"
        },
        "outputId": "45f57b61-c20e-443c-b157-d3f6fe650f2c"
      },
      "outputs": [
        {
          "output_type": "stream",
          "name": "stdout",
          "text": [
            "[[4.9e-324 9.9e-324 1.5e-323]\n",
            " [2.0e-323 2.5e-323 3.0e-323]\n",
            " [3.5e-323 4.0e-323 4.4e-323]\n",
            " [4.9e-323 5.4e-323 5.9e-323]]\n",
            "[[ 2.  2.  4.]\n",
            " [ 5.  5.  7.]\n",
            " [ 8.  8. 10.]\n",
            " [11. 11. 13.]]\n",
            "[[ 2  2  4]\n",
            " [ 5  5  7]\n",
            " [ 8  8 10]\n",
            " [11 11 13]]\n"
          ]
        }
      ],
      "source": [
        "x = np.array([[1,2,3], [4,5,6], [7,8,9], [10, 11, 12]])\n",
        "v = np.array([1, 0, 1])\n",
        "#Create an empty matrix with the same shape as x and print\n",
        "y = np.empty(x.shape)\n",
        "print(y)\n",
        "# create an array y by adding  the vector v to each row of the matrix x with an explicit loop \n",
        "#print y\n",
        "for i in range(x.shape[0]):\n",
        "  y[i] = x[i] + v\n",
        "print(y)\n",
        "#Add v to each row of x using broadcasting\n",
        "#store the result in matrix y and print y\n",
        "y = x+v\n",
        "print(y)"
      ]
    },
    {
      "cell_type": "code",
      "execution_count": 23,
      "metadata": {
        "id": "apNuOG-_bomv",
        "colab": {
          "base_uri": "https://localhost:8080/"
        },
        "outputId": "70de2eb0-9122-45dc-f677-897b5b6a4987"
      },
      "outputs": [
        {
          "output_type": "stream",
          "name": "stdout",
          "text": [
            "[[1]\n",
            " [2]\n",
            " [3]]\n"
          ]
        }
      ],
      "source": [
        "v = np.array([1,2,3])  \n",
        "w = np.array([4,5])\n",
        "#reshape v to(3,1) using numpy function and print it\n",
        "x = v.reshape(3,1)\n",
        "print(x)"
      ]
    }
  ],
  "metadata": {
    "colab": {
      "collapsed_sections": [],
      "name": "Python_Numpy_Introduction.ipynb",
      "provenance": []
    },
    "kernelspec": {
      "display_name": "Python 3 (ipykernel)",
      "language": "python",
      "name": "python3"
    },
    "language_info": {
      "codemirror_mode": {
        "name": "ipython",
        "version": 3
      },
      "file_extension": ".py",
      "mimetype": "text/x-python",
      "name": "python",
      "nbconvert_exporter": "python",
      "pygments_lexer": "ipython3",
      "version": "3.9.7"
    }
  },
  "nbformat": 4,
  "nbformat_minor": 0
}